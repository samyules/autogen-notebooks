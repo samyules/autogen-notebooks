{
 "cells": [
  {
   "cell_type": "markdown",
   "metadata": {},
   "source": [
    "# Welcome to my exploration of autogen\n",
    "Communication between AI agents\n",
    "---\n",
    "autogen  was created by Microsoft. It  provides a way for AI agents to communicate with  each-other in  pursuit of a  goal. Agents can be assigned a role and a persona. The level of human involvement can be adjusted – from approving every decision, to no involvement. Agents work together within  their individual roles to troubleshoot,  identify problems, and test solutions."
   ]
  },
  {
   "cell_type": "code",
   "execution_count": 1,
   "metadata": {},
   "outputs": [
    {
     "name": "stdout",
     "output_type": "stream",
     "text": [
      "sk-whatever\n"
     ]
    }
   ],
   "source": [
    "# First step is to get environmental variables. In this notebook they are in .env file.\n",
    "from dotenv import load_dotenv\n",
    "import os\n",
    "\n",
    "load_dotenv()\n",
    "\n",
    "api_key = os.getenv(\"OPENAI_API_KEY\")\n",
    "\n",
    "print(api_key)"
   ]
  }
 ],
 "metadata": {
  "kernelspec": {
   "display_name": "Python 3 (ipykernel)",
   "language": "python",
   "name": "python3"
  },
  "language_info": {
   "codemirror_mode": {
    "name": "ipython",
    "version": 3
   },
   "file_extension": ".py",
   "mimetype": "text/x-python",
   "name": "python",
   "nbconvert_exporter": "python",
   "pygments_lexer": "ipython3",
   "version": "3.11.7"
  }
 },
 "nbformat": 4,
 "nbformat_minor": 4
}
